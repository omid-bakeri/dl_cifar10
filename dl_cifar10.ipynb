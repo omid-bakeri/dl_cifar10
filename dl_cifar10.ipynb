{
  "nbformat": 4,
  "nbformat_minor": 0,
  "metadata": {
    "colab": {
      "provenance": [],
      "gpuType": "T4",
      "authorship_tag": "ABX9TyO1GbLzpN3YOmyaHLiUcwHb",
      "include_colab_link": true
    },
    "kernelspec": {
      "name": "python3",
      "display_name": "Python 3"
    },
    "language_info": {
      "name": "python"
    },
    "accelerator": "GPU"
  },
  "cells": [
    {
      "cell_type": "markdown",
      "metadata": {
        "id": "view-in-github",
        "colab_type": "text"
      },
      "source": [
        "<a href=\"https://colab.research.google.com/github/omid-bakeri/dl_cifar10/blob/main/dl_cifar10.ipynb\" target=\"_parent\"><img src=\"https://colab.research.google.com/assets/colab-badge.svg\" alt=\"Open In Colab\"/></a>"
      ]
    },
    {
      "cell_type": "code",
      "source": [],
      "metadata": {
        "id": "Nww6d-WyD_rL"
      },
      "execution_count": null,
      "outputs": []
    },
    {
      "cell_type": "code",
      "execution_count": null,
      "metadata": {
        "id": "iF-UpWFX9lQh"
      },
      "outputs": [],
      "source": [
        "# convolutional neural network (CNN)\n",
        "# import library\n",
        "import tensorflow as tf\n",
        "from tensorflow import keras\n",
        "import numpy as np\n",
        "import pandas as pd\n",
        "import matplotlib.pyplot as plt\n",
        "from sklearn.model_selection import train_test_split\n",
        "from keras.datasets import cifar10\n",
        "from keras.utils import to_categorical"
      ]
    },
    {
      "cell_type": "code",
      "source": [
        "# download dataset cifar10\n",
        "(train_features , train_labels) , (test_features , test_labels) = cifar10.load_data()\n"
      ],
      "metadata": {
        "colab": {
          "base_uri": "https://localhost:8080/"
        },
        "id": "WCK-dV6U-JkP",
        "outputId": "41db0c3a-1979-4954-ff59-2ec65dde888d"
      },
      "execution_count": null,
      "outputs": [
        {
          "output_type": "stream",
          "name": "stdout",
          "text": [
            "Downloading data from https://www.cs.toronto.edu/~kriz/cifar-10-python.tar.gz\n",
            "170498071/170498071 [==============================] - 3s 0us/step\n"
          ]
        }
      ]
    },
    {
      "cell_type": "code",
      "source": [
        "# shape and reshape\n",
        "\n",
        "print (train_features.shape , train_labels.shape)\n",
        "print (test_features.shape , test_labels.shape)"
      ],
      "metadata": {
        "colab": {
          "base_uri": "https://localhost:8080/"
        },
        "id": "OVzyvcBE-rPZ",
        "outputId": "cf164d23-2675-4b77-cac5-8e0a36404408"
      },
      "execution_count": null,
      "outputs": [
        {
          "output_type": "stream",
          "name": "stdout",
          "text": [
            "(50000, 32, 32, 3) (50000, 1)\n",
            "(10000, 32, 32, 3) (10000, 1)\n"
          ]
        }
      ]
    },
    {
      "cell_type": "code",
      "source": [
        "# normalize data (0 & 1)\n",
        "# 0 255 (rgb)\n",
        "\n",
        "train_features = train_features.astype('float32')\n",
        "test_features = test_features.astype('float32')\n",
        "\n",
        "train_features = train_features/255.0\n",
        "test_features = test_features/255.0"
      ],
      "metadata": {
        "id": "2z5bf6Yk_9Dc"
      },
      "execution_count": null,
      "outputs": []
    },
    {
      "cell_type": "code",
      "source": [
        "# one hot encoding\n",
        "\n",
        "plt.imshow(train_features[10])\n",
        "print (train_labels[10])\n",
        "\n",
        "\n",
        "train_labels = to_categorical(train_labels)\n",
        "test_labels = to_categorical(test_labels)"
      ],
      "metadata": {
        "colab": {
          "base_uri": "https://localhost:8080/",
          "height": 447
        },
        "id": "JuSbiDH-A3q6",
        "outputId": "36435fbd-0988-4a59-91da-6d5f3cebe9ee"
      },
      "execution_count": null,
      "outputs": [
        {
          "output_type": "stream",
          "name": "stdout",
          "text": [
            "[0. 0. 0. 0. 1. 0. 0. 0. 0. 0.]\n"
          ]
        },
        {
          "output_type": "display_data",
          "data": {
            "text/plain": [
              "<Figure size 640x480 with 1 Axes>"
            ],
            "image/png": "[encoded data removed]"
          },
          "metadata": {}
        }
      ]
    },
    {
      "cell_type": "code",
      "source": [
        "# create model\n",
        "# CNN\n",
        "\n",
        "model = keras.Sequential()\n",
        "model.add(keras.layers.Conv2D(filters=16 , kernel_size=(4 , 4) , padding='same' , activation='relu' , input_shape=train_features.shape[1:]))\n",
        "model.add(keras.layers.MaxPooling2D(2))\n",
        "model.add(keras.layers.Dropout(0.2))\n",
        "model.add(keras.layers.BatchNormalization())\n",
        "model.add(keras.layers.Conv2D(filters=32 , kernel_size=(4 , 4) , padding='same' , activation='relu' ,))\n",
        "model.add(keras.layers.MaxPooling2D(2))\n",
        "model.add(keras.layers.Dropout(0.2))\n",
        "model.add(keras.layers.BatchNormalization())\n",
        "model.add(keras.layers.Conv2D(filters=64 , kernel_size=(4 , 4) , padding='same' , activation='relu' ,))\n",
        "model.add(keras.layers.MaxPooling2D(2))\n",
        "model.add(keras.layers.Dropout(0.2))\n",
        "model.add(keras.layers.BatchNormalization())\n",
        "model.add(keras.layers.Conv2D(filters=128 , kernel_size=(4 , 4) , padding='same' , activation='relu' ,))\n",
        "model.add(keras.layers.MaxPooling2D(2))\n",
        "model.add(keras.layers.Dropout(0.2))\n",
        "model.add(keras.layers.Flatten())\n",
        "model.add(keras.layers.Dropout(0.2))\n",
        "# hidden layers\n",
        "model.add(keras.layers.Dense(units=64 , activation='relu' ))\n",
        "model.add(keras.layers.Dense(units=64 , activation='relu' ))\n",
        "model.add(keras.layers.Dropout(0.2))\n",
        "model.add(keras.layers.Dense(units=10 , activation='softmax' ))\n"
      ],
      "metadata": {
        "id": "rHG0YNQXCJkN"
      },
      "execution_count": null,
      "outputs": []
    },
    {
      "cell_type": "code",
      "source": [
        "# model compile\n",
        "model.summary()\n",
        "\n",
        "model.compile(optimizer='adam' , loss = 'categorical_crossentropy' , metrics=['accuracy'])"
      ],
      "metadata": {
        "id": "6BZS8IHjFM7O",
        "colab": {
          "base_uri": "https://localhost:8080/"
        },
        "outputId": "ba40d686-1fc7-4ef9-9761-2e2d2ad4e6be"
      },
      "execution_count": null,
      "outputs": [
        {
          "output_type": "stream",
          "name": "stdout",
          "text": [
            "Model: \"sequential_1\"\n",
            "_________________________________________________________________\n",
            " Layer (type)                Output Shape              Param #   \n",
            "=================================================================\n",
            " conv2d_4 (Conv2D)           (None, 32, 32, 16)        784       \n",
            "                                                                 \n",
            " max_pooling2d_4 (MaxPoolin  (None, 16, 16, 16)        0         \n",
            " g2D)                                                            \n",
            "                                                                 \n",
            " dropout (Dropout)           (None, 16, 16, 16)        0         \n",
            "                                                                 \n",
            " batch_normalization (Batch  (None, 16, 16, 16)        64        \n",
            " Normalization)                                                  \n",
            "                                                                 \n",
            " conv2d_5 (Conv2D)           (None, 16, 16, 32)        8224      \n",
            "                                                                 \n",
            " max_pooling2d_5 (MaxPoolin  (None, 8, 8, 32)          0         \n",
            " g2D)                                                            \n",
            "                                                                 \n",
            " dropout_1 (Dropout)         (None, 8, 8, 32)          0         \n",
            "                                                                 \n",
            " batch_normalization_1 (Bat  (None, 8, 8, 32)          128       \n",
            " chNormalization)                                                \n",
            "                                                                 \n",
            " conv2d_6 (Conv2D)           (None, 8, 8, 64)          32832     \n",
            "                                                                 \n",
            " max_pooling2d_6 (MaxPoolin  (None, 4, 4, 64)          0         \n",
            " g2D)                                                            \n",
            "                                                                 \n",
            " dropout_2 (Dropout)         (None, 4, 4, 64)          0         \n",
            "                                                                 \n",
            " batch_normalization_2 (Bat  (None, 4, 4, 64)          256       \n",
            " chNormalization)                                                \n",
            "                                                                 \n",
            " conv2d_7 (Conv2D)           (None, 4, 4, 128)         131200    \n",
            "                                                                 \n",
            " max_pooling2d_7 (MaxPoolin  (None, 2, 2, 128)         0         \n",
            " g2D)                                                            \n",
            "                                                                 \n",
            " dropout_3 (Dropout)         (None, 2, 2, 128)         0         \n",
            "                                                                 \n",
            " flatten_1 (Flatten)         (None, 512)               0         \n",
            "                                                                 \n",
            " dropout_4 (Dropout)         (None, 512)               0         \n",
            "                                                                 \n",
            " dense (Dense)               (None, 64)                32832     \n",
            "                                                                 \n",
            " dense_1 (Dense)             (None, 64)                4160      \n",
            "                                                                 \n",
            " dropout_5 (Dropout)         (None, 64)                0         \n",
            "                                                                 \n",
            " dense_2 (Dense)             (None, 10)                650       \n",
            "                                                                 \n",
            "=================================================================\n",
            "Total params: 211130 (824.73 KB)\n",
            "Trainable params: 210906 (823.85 KB)\n",
            "Non-trainable params: 224 (896.00 Byte)\n",
            "_________________________________________________________________\n"
          ]
        }
      ]
    },
    {
      "cell_type": "code",
      "source": [
        "# model train\n",
        "\n",
        "history = model.fit(train_features , train_labels , batch_size=128 , epochs=10 , validation_data=(test_features , test_labels))"
      ],
      "metadata": {
        "colab": {
          "base_uri": "https://localhost:8080/"
        },
        "id": "QgQrPMesWHSx",
        "outputId": "aa5e22c6-8de1-4598-f757-5eb5ae5115cd"
      },
      "execution_count": null,
      "outputs": [
        {
          "output_type": "stream",
          "name": "stdout",
          "text": [
            "Epoch 1/10\n",
            "391/391 [==============================] - 108s 272ms/step - loss: 1.4940 - accuracy: 0.4529 - val_loss: 1.5370 - val_accuracy: 0.4619\n",
            "Epoch 2/10\n",
            "391/391 [==============================] - 107s 274ms/step - loss: 1.2907 - accuracy: 0.5347 - val_loss: 1.5610 - val_accuracy: 0.4816\n",
            "Epoch 3/10\n",
            "391/391 [==============================] - 116s 297ms/step - loss: 1.1653 - accuracy: 0.5830 - val_loss: 1.2256 - val_accuracy: 0.5708\n",
            "Epoch 4/10\n",
            "391/391 [==============================] - 104s 267ms/step - loss: 1.0826 - accuracy: 0.6153 - val_loss: 1.2520 - val_accuracy: 0.5371\n",
            "Epoch 5/10\n",
            "391/391 [==============================] - 109s 280ms/step - loss: 1.0124 - accuracy: 0.6451 - val_loss: 0.9497 - val_accuracy: 0.6674\n",
            "Epoch 6/10\n",
            "391/391 [==============================] - 104s 265ms/step - loss: 0.9617 - accuracy: 0.6609 - val_loss: 0.9866 - val_accuracy: 0.6462\n",
            "Epoch 7/10\n",
            "391/391 [==============================] - 104s 265ms/step - loss: 0.9268 - accuracy: 0.6771 - val_loss: 0.8545 - val_accuracy: 0.6975\n",
            "Epoch 8/10\n",
            "391/391 [==============================] - 105s 268ms/step - loss: 0.8913 - accuracy: 0.6890 - val_loss: 0.8938 - val_accuracy: 0.6860\n",
            "Epoch 9/10\n",
            "391/391 [==============================] - 104s 265ms/step - loss: 0.8690 - accuracy: 0.6969 - val_loss: 0.8456 - val_accuracy: 0.7091\n",
            "Epoch 10/10\n",
            "391/391 [==============================] - 104s 265ms/step - loss: 0.8357 - accuracy: 0.7084 - val_loss: 0.8967 - val_accuracy: 0.6882\n"
          ]
        }
      ]
    },
    {
      "cell_type": "code",
      "source": [
        "# validation and check train result\n",
        "\n",
        "for key , value in history.history.items():\n",
        "  print(key , value)"
      ],
      "metadata": {
        "colab": {
          "base_uri": "https://localhost:8080/"
        },
        "id": "1WqTm23okCw6",
        "outputId": "1f111244-44aa-4cb0-f375-22bc198d2e34"
      },
      "execution_count": null,
      "outputs": [
        {
          "output_type": "stream",
          "name": "stdout",
          "text": [
            "loss [1.4939898252487183, 1.2907280921936035, 1.1653484106063843, 1.0826283693313599, 1.0124391317367554, 0.961740255355835, 0.9268296957015991, 0.8912962675094604, 0.8690269589424133, 0.8357191681861877]\n",
            "accuracy [0.4528999924659729, 0.5346599817276001, 0.5830199718475342, 0.6152999997138977, 0.6450999975204468, 0.6608999967575073, 0.6771399974822998, 0.6890000104904175, 0.696940004825592, 0.7084000110626221]\n",
            "val_loss [1.5369712114334106, 1.5609631538391113, 1.225590467453003, 1.251975655555725, 0.9496802687644958, 0.9865630865097046, 0.854464054107666, 0.8938027620315552, 0.845556914806366, 0.896686315536499]\n",
            "val_accuracy [0.461899995803833, 0.48159998655319214, 0.5708000063896179, 0.5371000170707703, 0.6674000024795532, 0.6462000012397766, 0.6974999904632568, 0.6859999895095825, 0.7091000080108643, 0.6881999969482422]\n"
          ]
        }
      ]
    },
    {
      "cell_type": "code",
      "source": [
        "plot = pd.DataFrame(history.history)\n",
        "plot.plot()"
      ],
      "metadata": {
        "colab": {
          "base_uri": "https://localhost:8080/",
          "height": 447
        },
        "id": "ZpLoSxzSws7W",
        "outputId": "f3c1ccee-1657-457d-9622-6ccb41c3371c"
      },
      "execution_count": null,
      "outputs": [
        {
          "output_type": "execute_result",
          "data": {
            "text/plain": [
              "<Axes: >"
            ]
          },
          "metadata": {},
          "execution_count": 14
        },
        {
          "output_type": "display_data",
          "data": {
            "text/plain": [
              "<Figure size 640x480 with 1 Axes>"
            ],
            "image/png": "[encoded data removed]"
          },
          "metadata": {}
        }
      ]
    },
    {
      "cell_type": "code",
      "source": [
        "# save model\n",
        "\n",
        "model.save('dl_cifar10')"
      ],
      "metadata": {
        "id": "YMkPL_5lxSZJ"
      },
      "execution_count": null,
      "outputs": []
    },
    {
      "cell_type": "code",
      "source": [
        "# test model\n",
        "\n",
        "prediction = model.predict(test_features[0:10])\n",
        "\n",
        "\n"
      ],
      "metadata": {
        "colab": {
          "base_uri": "https://localhost:8080/"
        },
        "id": "2hUJjMb_OxrY",
        "outputId": "f112047d-0c01-49be-885a-018b7b5271a5"
      },
      "execution_count": null,
      "outputs": [
        {
          "output_type": "stream",
          "name": "stdout",
          "text": [
            "1/1 [==============================] - 0s 29ms/step\n"
          ]
        }
      ]
    },
    {
      "cell_type": "code",
      "source": [
        "plt.imshow(test_features[0])"
      ],
      "metadata": {
        "colab": {
          "base_uri": "https://localhost:8080/",
          "height": 447
        },
        "id": "oO_CKiARSAL0",
        "outputId": "c64f81cc-aec7-4104-e20c-8fbcb9a1e7df"
      },
      "execution_count": null,
      "outputs": [
        {
          "output_type": "execute_result",
          "data": {
            "text/plain": [
              "<matplotlib.image.AxesImage at 0x796e119d8220>"
            ]
          },
          "metadata": {},
          "execution_count": 60
        },
        {
          "output_type": "display_data",
          "data": {
            "text/plain": [
              "<Figure size 640x480 with 1 Axes>"
            ],
            "image/png": "[encoded data removed]"
          },
          "metadata": {}
        }
      ]
    },
    {
      "cell_type": "code",
      "source": [
        "test_labels[0]"
      ],
      "metadata": {
        "colab": {
          "base_uri": "https://localhost:8080/"
        },
        "id": "Off-VK2jU8w_",
        "outputId": "de5bdfe6-cc50-4a81-c312-2d78a3af289e"
      },
      "execution_count": null,
      "outputs": [
        {
          "output_type": "execute_result",
          "data": {
            "text/plain": [
              "array([[1., 0.],\n",
              "       [1., 0.],\n",
              "       [1., 0.],\n",
              "       [0., 1.],\n",
              "       [1., 0.],\n",
              "       [1., 0.],\n",
              "       [1., 0.],\n",
              "       [1., 0.],\n",
              "       [1., 0.],\n",
              "       [1., 0.]], dtype=float32)"
            ]
          },
          "metadata": {},
          "execution_count": 61
        }
      ]
    },
    {
      "cell_type": "code",
      "source": [
        "# confusion matrix\n",
        "# precision\n",
        "# recall\n",
        "# accuracy"
      ],
      "metadata": {
        "id": "wsuLlwqlXzdA"
      },
      "execution_count": null,
      "outputs": []
    },
    {
      "cell_type": "code",
      "source": [
        "from sklearn.metrics import precision_score\n",
        "from sklearn.metrics import recall_score\n",
        "from sklearn.metrics import accuracy_score\n",
        "from sklearn.metrics import confusion_matrix"
      ],
      "metadata": {
        "id": "_ZTMlzMnYG-R"
      },
      "execution_count": null,
      "outputs": []
    }
  ]
}